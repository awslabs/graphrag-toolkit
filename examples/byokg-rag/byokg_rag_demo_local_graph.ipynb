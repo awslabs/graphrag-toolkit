{
 "cells": [
  {
   "cell_type": "markdown",
   "id": "2ad881f1",
   "metadata": {},
   "source": [
    "# BYOKG RAG Demo\n",
    "This notebook demonstrates a RAG (Retrieval Augmented Generation) system built on top of a Knowledge Graph. The system allows querying a knowledge graph using natural language questions and retrieving relevant information to generate answers.\n",
    "\n",
    "1. **Graph Store**: Manages the knowledge graph data structure\n",
    "2. **KG Linker**: Links natural language queries to graph entities and paths\n",
    "3. **Entity Linker**: Matches entities from text to graph nodes\n",
    "4. **Triplet Retriever**: Retrieves relevant triplets from the graph\n",
    "5. **Path Retriever**: Finds paths between entities in the graph\n",
    "6. **Query Engine**: Orchestrates all components to answer questions"
   ]
  },
  {
   "cell_type": "markdown",
   "id": "1f71f996",
   "metadata": {},
   "source": [
    "#### Setup\n",
    "If you haven't already, install the toolkit and dependencies in [README.md](../../byokg-rag/README.md).\n",
    "Let's validate if the package is correctly installed."
   ]
  },
  {
   "cell_type": "code",
   "execution_count": null,
   "id": "aceff478",
   "metadata": {},
   "outputs": [],
   "source": [
    "import graphrag_toolkit.byokg_rag"
   ]
  },
  {
   "cell_type": "code",
   "execution_count": null,
   "id": "fcbdac31-35e0-4cd3-9456-2d7ab58a172e",
   "metadata": {},
   "outputs": [],
   "source": [
    "!pip install https://github.com/awslabs/graphrag-toolkit/archive/refs/tags/v3.11.2.zip#subdirectory=byokg-rag"
   ]
  },
  {
   "cell_type": "markdown",
   "id": "e8d4754e",
   "metadata": {},
   "source": [
    "### Graph Store\n",
    "The `LocalKGStore` class provides an interface to work with the knowledge graph. Here we\n",
    "1. Initialize the graph store\n",
    "2. Load data from a CSV file\n",
    "3. Get basic statistics about the graph\n",
    "4. Examine sample edges for a specific node (Wynton Marsalis)"
   ]
  },
  {
   "cell_type": "code",
   "execution_count": null,
   "id": "bfae6b0c",
   "metadata": {},
   "outputs": [],
   "source": [
    "from graphrag_toolkit.byokg_rag.graphstore import LocalKGStore\n",
    "\n",
    "graph_store = LocalKGStore()\n",
    "graph_store.read_from_csv('freebase_tiny_kg.csv')\n",
    "# Print graph statistics\n",
    "schema = graph_store.get_schema()\n",
    "number_of_nodes = len(graph_store.nodes())\n",
    "number_of_edges = len(graph_store.get_triplets())\n",
    "print(f\"The graph has {number_of_nodes} nodes and {number_of_edges} edges.\")\n",
    "\n",
    "# Let's also see neighbor edges of node \"Wynton Marsalis\"\n",
    "import random\n",
    "sample_triplets = graph_store.get_one_hop_edges([\"Wynton Marsalis\"])\n",
    "sample_triplets = random.sample(list(sample_triplets[\"Wynton Marsalis\"].items()), 3)\n",
    "print(\"Some neighboring edges of node 'Wynton Marsalis' are: \", sample_triplets)\n"
   ]
  },
  {
   "cell_type": "markdown",
   "id": "2e4a06a1",
   "metadata": {},
   "source": [
    "### Question Answering\n",
    "\n",
    "We define a sample question and its ground truth answer to test our system. The question requires reasoning through multiple hops in the knowledge graph to find the answer."
   ]
  },
  {
   "cell_type": "code",
   "execution_count": null,
   "id": "3965af5b",
   "metadata": {},
   "outputs": [],
   "source": [
    "question = \"What genre of film is associated with the place where Wynton Marsalis was born?\"\n",
    "answer = \"Backstage Musical\""
   ]
  },
  {
   "cell_type": "markdown",
   "id": "1401f060",
   "metadata": {},
   "source": [
    "### KG Linker\n",
    "The `KGLinker` uses an LLM (Claude 3.5 Sonnet) to:\n",
    "1. Extract entities from the question\n",
    "2. Identify potential relationship paths in the graph\n",
    "3. Generate initial responses based on its knowledge"
   ]
  },
  {
   "cell_type": "code",
   "execution_count": null,
   "id": "5e6699b1",
   "metadata": {},
   "outputs": [],
   "source": [
    "\n",
    "from graphrag_toolkit.byokg_rag.graph_connectors import KGLinker\n",
    "from graphrag_toolkit.byokg_rag.llm import BedrockGenerator\n",
    "\n",
    "\n",
    "\n",
    "# Initialize llm\n",
    "llm_generator = BedrockGenerator(\n",
    "                model_name='us.anthropic.claude-3-5-sonnet-20240620-v1:0',\n",
    "                region_name='us-west-2')\n",
    "\n",
    "kg_linker = KGLinker(graph_store=graph_store, llm_generator=llm_generator)\n",
    "response = kg_linker.generate_response(\n",
    "                question=question,\n",
    "                schema=schema,\n",
    "                graph_context=\"Not provided. Use the above schema to understand the graph.\"\n",
    "            )\n",
    "response\n"
   ]
  },
  {
   "cell_type": "code",
   "execution_count": null,
   "id": "9c42fb7e",
   "metadata": {},
   "outputs": [],
   "source": [
    "artifacts = kg_linker.parse_response(response)\n",
    "artifacts"
   ]
  },
  {
   "cell_type": "markdown",
   "id": "d5cfc82c",
   "metadata": {},
   "source": [
    "### Entity Linking\n",
    "The `EntityLinker` uses fuzzy string matching to\n",
    "1. Match extracted entities to actual nodes in the graph\n",
    "3. Link potential answers to graph nodes"
   ]
  },
  {
   "cell_type": "code",
   "execution_count": null,
   "id": "dde72518",
   "metadata": {},
   "outputs": [],
   "source": [
    "from graphrag_toolkit.byokg_rag.indexing import FuzzyStringIndex\n",
    "from graphrag_toolkit.byokg_rag.graph_retrievers import EntityLinker\n",
    "\n",
    "# Add graph nodes text for string matching\n",
    "string_index = FuzzyStringIndex()\n",
    "string_index.add(graph_store.nodes())\n",
    "retriever = string_index.as_entity_matcher()\n",
    "entity_linker = EntityLinker(retriever=retriever)\n",
    "\n",
    "linked_entities = entity_linker.link(artifacts[\"entity-extraction\"], return_dict=False)\n",
    "linked_answers = entity_linker.link(artifacts[\"draft-answer-generation\"], return_dict=False)\n",
    "linked_entities, linked_answers"
   ]
  },
  {
   "cell_type": "markdown",
   "id": "cb56d7d7",
   "metadata": {},
   "source": [
    "### Triplet Retrieval\n",
    "The `AgenticRetriever` uses an LLM to:\n",
    "1. Navigate the graph starting from linked entities\n",
    "2. Select relevant relations based on the question\n",
    "3. Expand those relations and decide which relevant entities to explore next.\n",
    "4. It returns the relevant (head->relation->tail) based on the question.\n"
   ]
  },
  {
   "cell_type": "code",
   "execution_count": null,
   "id": "5438c866",
   "metadata": {},
   "outputs": [],
   "source": [
    "from graphrag_toolkit.byokg_rag.graph_retrievers import AgenticRetriever\n",
    "from graphrag_toolkit.byokg_rag.graph_retrievers import GTraversal, TripletGVerbalizer\n",
    "graph_traversal = GTraversal(graph_store)\n",
    "graph_verbalizer = TripletGVerbalizer()\n",
    "triplet_retriever = AgenticRetriever(\n",
    "    llm_generator=llm_generator, \n",
    "    graph_traversal=graph_traversal,\n",
    "    graph_verbalizer=graph_verbalizer)"
   ]
  },
  {
   "cell_type": "code",
   "execution_count": null,
   "id": "91c66868",
   "metadata": {},
   "outputs": [],
   "source": [
    "triplet_context = triplet_retriever.retrieve(query=question, source_nodes=linked_entities)\n",
    "triplet_context"
   ]
  },
  {
   "cell_type": "markdown",
   "id": "d5da3c24",
   "metadata": {},
   "source": [
    "### Path Retrieval\n",
    "The `PathRetriever` uses the identified metapaths and candidate answers to:\n",
    "1. Retrieve actual paths in the graph following the metapath\n",
    "2. Retrieve shortest paths connecting question entities and candidate answers (if any) \n",
    "3. Verbalize the paths for context"
   ]
  },
  {
   "cell_type": "code",
   "execution_count": null,
   "id": "7576abf8",
   "metadata": {},
   "outputs": [],
   "source": [
    "from graphrag_toolkit.byokg_rag.graph_retrievers import PathRetriever\n",
    "from graphrag_toolkit.byokg_rag.graph_retrievers import GTraversal, PathVerbalizer\n",
    "graph_traversal = GTraversal(graph_store)\n",
    "path_verbalizer = PathVerbalizer()\n",
    "path_retriever = PathRetriever(\n",
    "    graph_traversal=graph_traversal,\n",
    "    path_verbalizer=path_verbalizer)\n",
    "\n",
    "metapaths = [[component.strip() for component in path.split(\"->\")] for path in artifacts[\"path-extraction\"]]\n",
    "shortened_paths = []\n",
    "for path in metapaths:\n",
    "    if len(path) > 1:\n",
    "        shortened_paths.append(path[:1])\n",
    "for path in metapaths:\n",
    "    if len(path) > 2:\n",
    "        shortened_paths.append(path[:2])\n",
    "metapaths += shortened_paths\n",
    "path_context = path_retriever.retrieve(linked_entities, metapaths, linked_answers)\n",
    "path_context"
   ]
  },
  {
   "cell_type": "markdown",
   "id": "a981d132",
   "metadata": {},
   "source": [
    "### Retrieval Evaluation\n",
    "\n",
    "We evaluate whether the answer is found in the retrieved context."
   ]
  },
  {
   "cell_type": "code",
   "execution_count": null,
   "id": "07aee5c6",
   "metadata": {},
   "outputs": [],
   "source": [
    "context = list(set(triplet_context + path_context))\n",
    "print(f\"Success! Ground-truth answer `{answer}` retrieved!\") if answer in '\\n'.join(context) else print(\"Failure..\")\n"
   ]
  },
  {
   "cell_type": "markdown",
   "id": "c6b5307b",
   "metadata": {},
   "source": [
    "### BYOKG RAG Pipeline\n",
    "\n",
    "The `ByoKGQueryEngine` combines all components to:\n",
    "1. Process natural language questions\n",
    "2. Retrieve relevant context from the graph\n",
    "3. Generate answers based on the retrieved information"
   ]
  },
  {
   "cell_type": "code",
   "execution_count": null,
   "id": "eac11cfe",
   "metadata": {},
   "outputs": [],
   "source": [
    "from graphrag_toolkit.byokg_rag.byokg_query_engine import ByoKGQueryEngine\n",
    "byokg_query_engine = ByoKGQueryEngine(\n",
    "    graph_store=graph_store,\n",
    "    kg_linker=kg_linker,\n",
    "    triplet_retriever=triplet_retriever,\n",
    "    path_retriever=path_retriever,\n",
    "    entity_linker=entity_linker\n",
    ")"
   ]
  },
  {
   "cell_type": "code",
   "execution_count": null,
   "id": "914cc3c2",
   "metadata": {},
   "outputs": [],
   "source": [
    "retrieved_context = byokg_query_engine.query(question)\n",
    "answers, response = byokg_query_engine.generate_response(question, \"\\n\".join(retrieved_context))\n",
    "\n",
    "print(\"Retrieved context: \", \"\\n\".join(retrieved_context))\n",
    "print(\"Generated answers: \", answers)\n",
    "print(f\"Success! Ground-truth answer `{answer}` retrieved!\") if answer in '\\n'.join(answers) else print(\"Failure..\")\n"
   ]
  },
  {
   "cell_type": "markdown",
   "id": "dd21e36a",
   "metadata": {},
   "source": [
    "### Testing with Another Question"
   ]
  },
  {
   "cell_type": "code",
   "execution_count": null,
   "id": "44afebbb",
   "metadata": {},
   "outputs": [],
   "source": [
    "question=\"What are all airports in the city where New York Times is circulated?\"\n",
    "retrieved_context = byokg_query_engine.query(question)\n"
   ]
  },
  {
   "cell_type": "code",
   "execution_count": null,
   "id": "daec40ef",
   "metadata": {},
   "outputs": [],
   "source": [
    "print(\"Retrieved context: \", \"\\n\".join(retrieved_context))\n",
    "answers, response = byokg_query_engine.generate_response(question, \"\\n\".join(retrieved_context))\n",
    "print(\"Generated response: \", response)\n"
   ]
  },
  {
   "cell_type": "markdown",
   "id": "950e10dc",
   "metadata": {},
   "source": [
    "### Testing with Scoring-based Retriever"
   ]
  },
  {
   "cell_type": "code",
   "execution_count": null,
   "id": "54d6d460",
   "metadata": {},
   "outputs": [],
   "source": [
    "from graphrag_toolkit.byokg_rag.graph_retrievers import GraphScoringRetriever\n",
    "from graphrag_toolkit.byokg_rag.graph_retrievers import GTraversal, TripletGVerbalizer\n",
    "from graphrag_toolkit.byokg_rag.graph_retrievers import LocalGReranker\n",
    "graph_traversal = GTraversal(graph_store)\n",
    "graph_verbalizer = TripletGVerbalizer()\n",
    "\n",
    "device=\"cuda\" #change to device=\"cpu\" if no gpu available\n",
    "graph_reranker = LocalGReranker(model_name='BAAI/bge-reranker-v2-m3', topk=10, device=device)\n",
    "triplet_retriever = GraphScoringRetriever(\n",
    "    graph_traversal=graph_traversal,\n",
    "    graph_verbalizer=graph_verbalizer,\n",
    "    graph_reranker=graph_reranker\n",
    "    )"
   ]
  },
  {
   "cell_type": "code",
   "execution_count": null,
   "id": "1663b9a1",
   "metadata": {},
   "outputs": [],
   "source": [
    "triplet_context = triplet_retriever.retrieve(query=\"What genre of film is associated with the place where Wynton Marsalis was born?\",\n",
    "                                            source_nodes=[\"Wynton Marsalis\"])\n",
    "print(\"Retrieved context: \", \"\\n\".join(triplet_context))\n",
    "answer = \"Backstage Musical\"\n",
    "print(f\"Success! Ground-truth answer `{answer}` retrieved!\") if answer in '\\n'.join(triplet_context) else print(\"Failure..\")\n"
   ]
  }
 ],
 "metadata": {
  "kernelspec": {
   "display_name": "Python 3",
   "language": "python",
   "name": "python3"
  },
  "language_info": {
   "codemirror_mode": {
    "name": "ipython",
    "version": 3
   },
   "file_extension": ".py",
   "mimetype": "text/x-python",
   "name": "python",
   "nbconvert_exporter": "python",
   "pygments_lexer": "ipython3",
   "version": "3.10.17"
  }
 },
 "nbformat": 4,
 "nbformat_minor": 5
}
