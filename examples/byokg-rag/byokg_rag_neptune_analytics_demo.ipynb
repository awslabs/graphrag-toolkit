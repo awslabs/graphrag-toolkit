{
 "cells": [
  {
   "cell_type": "markdown",
   "id": "2ad881f1",
   "metadata": {},
   "source": [
    "# BYOKG RAG Demo\n",
    "This notebook demonstrates a RAG (Retrieval Augmented Generation) system built on top of a Knowledge Graph. The system allows querying a knowledge graph using natural language questions and retrieving relevant information to generate answers.\n",
    "\n",
    "1. **Graph Store**: Neptune Analytics endpoint for the graph structure\n",
    "2. **KG Linker**: Links natural language queries to graph entities and paths\n",
    "3. **Entity Linker**: Matches entities from text to graph nodes\n",
    "4. **Triplet Retriever**: Retrieves relevant triplets from the graph\n",
    "5. **Path Retriever**: Finds paths between entities in the graph\n",
    "6. **Query Engine**: Orchestrates all components to answer questions"
   ]
  },
  {
   "cell_type": "markdown",
   "id": "1f71f996",
   "metadata": {},
   "source": [
    "#### Setup\n",
    "If you haven't already, install the toolkit and dependencies in [README.md](../../byokg-rag/README.md).\n",
    "Let's validate if the package is correctly installed."
   ]
  },
  {
   "cell_type": "code",
   "execution_count": null,
   "id": "fcbdac31-35e0-4cd3-9456-2d7ab58a172e",
   "metadata": {},
   "outputs": [],
   "source": [
    "# !pip install https://github.com/awslabs/graphrag-toolkit/archive/refs/tags/v3.8.1.zip#subdirectory=byokg-rag"
   ]
  },
  {
   "cell_type": "code",
   "execution_count": null,
   "id": "aceff478",
   "metadata": {},
   "outputs": [],
   "source": [
    "from graphrag_toolkit.byokg_rag.graphstore import NeptuneAnalyticsGraphStore"
   ]
  },
  {
   "cell_type": "markdown",
   "id": "e8d4754e",
   "metadata": {},
   "source": [
    "### Graph Store\n",
    "The `NeptuneAnalyticsGraphStore` class provides an interface to work with the Neptune Analytics graph.\n",
    "If you already have a NeptuneAnalyticsGraphEndpoint you want to use, simply change the cell below to assign `graph_identifier` to your NeptuneAnalytics graph id. \n",
    "\n",
    "If you don't already have a Neptune Graph then you can create one by running the command below from an environment that has the AWS CLI configured with appropriate permissions. Please refer to documentation for more details about [creating a graph](https://docs.aws.amazon.com/neptune-analytics/latest/userguide/create-graph-using-console.html) and [loading data into the graph](https://docs.aws.amazon.com/neptune-analytics/latest/userguide/batch-load.html).\n",
    "\n",
    "```\n",
    "aws neptune-graph create-graph --graph-name 'edgar-byokg' --provisioned-memory 128 --public-connectivity --replica-count 0 --vector-search-configuration '{\"dimension\": 384}'\n",
    "```\n",
    "\n",
    "After running the command you should receive a response that includes the graph id. Change the cell below to assign  `graph_identifier` to the id.\n",
    "\n",
    "To run the rest of the notebook, you'll need to ensure that the environment has the right IAM permissions to interact with your neptune analytics graph endpoint. Specifically you will need `neptune-graph:ReadDataViaQuery` and `neptune-graph:GetGraph`. If you are also using the example dataset, you will need s3 IAM read permissions so that `graphstore.read_from_csv` can access data from `s3://aws-neptune-customer-samples-*/*`. If you're using your own dataset then you also need to provide write access so that `read_from_csv` can upload your csv file to an s3 location you specify where it will be ingested by Neptune Analytics.\n",
    "\n",
    "In the rest of the notebook, we\n",
    "1. Initialize the BYOKG graph store to use a Neptune Analytics Graph\n",
    "2. Optionally, load an example data from a CSV file for a new graph\n",
    "3. Get basic statistics about the graph and sample edges for a specific node\n",
    "4. Run the BYOKG retrieval functions and QueryEngine on a sample question"
   ]
  },
  {
   "cell_type": "code",
   "execution_count": null,
   "id": "28739bdf",
   "metadata": {},
   "outputs": [],
   "source": [
    "region = \"us-east-1\" #replace with aws region\n",
    "graph_identifier = \"<>\" # replace with graph id "
   ]
  },
  {
   "cell_type": "code",
   "execution_count": null,
   "id": "bfae6b0c",
   "metadata": {},
   "outputs": [],
   "source": [
    "graph_store = NeptuneAnalyticsGraphStore(graph_identifier=graph_identifier,\n",
    "                                         region=region)"
   ]
  },
  {
   "cell_type": "markdown",
   "id": "902a8cd7",
   "metadata": {},
   "source": [
    "#### Loading Data\n",
    "\n",
    "If you ran the command to create a new graph, then uncomment the code cell below to load the new graph with some data. The data we are loading is a public dataset from the [SEC EDGAR system](https://www.sec.gov/search-filings) and contains information on stock holdings. \n",
    "\n",
    "See the [Neptune Analytics example notebook](https://github.com/aws/graph-notebook/blob/main/src/graph_notebook/notebooks/02-Neptune-Analytics/03-Sample-Use-Cases/02-Investment-Analysis/01-EDGAR-Competitor-Analysis-using-Knowledge-Graph-Graph-Algorithms-and-Vector-Search.ipynb) for more details"
   ]
  },
  {
   "cell_type": "code",
   "execution_count": null,
   "id": "adbc29f1",
   "metadata": {},
   "outputs": [],
   "source": [
    "# graph_store.read_from_csv(s3_path=f\"s3://aws-neptune-customer-samples-{region}/sample-datasets/gremlin/edgar/\")"
   ]
  },
  {
   "cell_type": "code",
   "execution_count": null,
   "id": "0ee946d1",
   "metadata": {},
   "outputs": [],
   "source": [
    "# Print graph statistics\n",
    "number_of_nodes = len(graph_store.nodes())\n",
    "number_of_edges = len(graph_store.edges())\n",
    "print(f\"The graph has {number_of_nodes} nodes and {number_of_edges} edges.\")"
   ]
  },
  {
   "cell_type": "code",
   "execution_count": null,
   "id": "c3005cda",
   "metadata": {},
   "outputs": [],
   "source": [
    "# Print graph schema\n",
    "import json\n",
    "\n",
    "schema = graph_store.get_schema()\n",
    "print(json.dumps(schema, indent=4))"
   ]
  },
  {
   "cell_type": "markdown",
   "id": "1c18bc5f",
   "metadata": {},
   "source": [
    "In order to customize how we refer to nodes in the graph, we can tell the graphstore to assign a property as the text representation key for each node.\n",
    "\n",
    "\n",
    "To see the properties available for each node, you can run\n",
    "```\n",
    "print(schema[0][\"schema\"][\"nodeLabelDetails\"])\n",
    "```\n",
    "and select the right property\n",
    "\n",
    "\n",
    "Below we use the `name` property for the `Holder` nodes and for `Holding` nodes. We leave HoldingQuarter as the default `~id` property, by assigning it's representation as None to be able to uniquely identify each holding quarter with it's Holder. This is optional, you only need to pass in the node labels that you want to refer to using a particular property."
   ]
  },
  {
   "cell_type": "code",
   "execution_count": null,
   "id": "515d7d66",
   "metadata": {},
   "outputs": [],
   "source": [
    "graph_store.assign_text_repr_prop_for_nodes(Holder='name', Holding='name', HoldingQuarter=None)"
   ]
  },
  {
   "cell_type": "markdown",
   "id": "8e37cc3d",
   "metadata": {},
   "source": [
    "Now we can get ask for some details of some nodes in the graph. For example, let's ask for the following nodes:\n",
    "\n",
    "* `\"Miracle Mile Advisors, LLC\"`\n",
    "* `\"Cranbrook Wealth Management, LLC\"`\n"
   ]
  },
  {
   "cell_type": "code",
   "execution_count": null,
   "id": "b667223c",
   "metadata": {},
   "outputs": [],
   "source": [
    "nodes_details = graph_store.get_nodes([\"Miracle Mile Advisors, LLC\", \"Cranbrook Wealth Management, LLC\"])\n",
    "print(json.dumps(nodes_details, indent=4))"
   ]
  },
  {
   "cell_type": "markdown",
   "id": "1e102279",
   "metadata": {},
   "source": [
    "We can also take a look the connections from `\"Miracle Mile Advisors, LLC\"`"
   ]
  },
  {
   "cell_type": "code",
   "execution_count": null,
   "id": "bc50e944",
   "metadata": {},
   "outputs": [],
   "source": [
    "graph_store.get_one_hop_edges([\"Miracle Mile Advisors, LLC\"])"
   ]
  },
  {
   "cell_type": "code",
   "execution_count": null,
   "id": "b4f3663a",
   "metadata": {},
   "outputs": [],
   "source": [
    "graph_store.get_one_hop_edges([\"20231025_1585859\"])"
   ]
  },
  {
   "cell_type": "markdown",
   "id": "2e4a06a1",
   "metadata": {},
   "source": [
    "### Question Answering\n",
    "\n",
    "We define a sample question to test our system. The question requires reasoning through multiple hops in the knowledge graph to find the answer."
   ]
  },
  {
   "cell_type": "code",
   "execution_count": null,
   "id": "3965af5b",
   "metadata": {},
   "outputs": [],
   "source": [
    "question = \"Does Miracle Mile Advisors own any Vanguard Index funds\""
   ]
  },
  {
   "cell_type": "markdown",
   "id": "1401f060",
   "metadata": {},
   "source": [
    "### KG Linker\n",
    "The `KGLinker` uses an LLM (Claude 3.5 Sonnet) to:\n",
    "1. Extract entities from the question\n",
    "2. Identify potential relationship paths in the graph\n",
    "3. Generate initial responses based on its knowledge"
   ]
  },
  {
   "cell_type": "code",
   "execution_count": null,
   "id": "5e6699b1",
   "metadata": {},
   "outputs": [],
   "source": [
    "\n",
    "from graphrag_toolkit.byokg_rag.graph_connectors import KGLinker\n",
    "from graphrag_toolkit.byokg_rag.llm import BedrockGenerator\n",
    "\n",
    "\n",
    "\n",
    "# Initialize llm\n",
    "llm_generator = BedrockGenerator(\n",
    "                model_name='us.anthropic.claude-3-5-sonnet-20240620-v1:0',\n",
    "                region_name='us-west-2')\n",
    "\n",
    "kg_linker = KGLinker(graph_store=graph_store, llm_generator=llm_generator)\n",
    "response = kg_linker.generate_response(\n",
    "                question=question,\n",
    "                schema=schema,\n",
    "                graph_context=\"Not provided. Use the above schema to understand the graph.\"\n",
    "            )\n",
    "response\n"
   ]
  },
  {
   "cell_type": "code",
   "execution_count": null,
   "id": "9c42fb7e",
   "metadata": {},
   "outputs": [],
   "source": [
    "artifacts = kg_linker.parse_response(response)\n",
    "artifacts"
   ]
  },
  {
   "cell_type": "markdown",
   "id": "d5cfc82c",
   "metadata": {},
   "source": [
    "### Entity Linking\n",
    "The `EntityLinker` uses fuzzy string matching to\n",
    "1. Match extracted entities to actual nodes in the graph\n",
    "3. Link potential answers to graph nodes"
   ]
  },
  {
   "cell_type": "code",
   "execution_count": null,
   "id": "dde72518",
   "metadata": {},
   "outputs": [],
   "source": [
    "from graphrag_toolkit.byokg_rag.indexing import FuzzyStringIndex\n",
    "from graphrag_toolkit.byokg_rag.graph_retrievers import EntityLinker\n",
    "\n",
    "# Add graph nodes text for string matching\n",
    "string_index = FuzzyStringIndex()\n",
    "string_index.add(graph_store.nodes())\n",
    "retriever = string_index.as_entity_matcher()\n",
    "entity_linker = EntityLinker(retriever=retriever)\n",
    "\n",
    "linked_entities = entity_linker.link(artifacts[\"entity-extraction\"], return_dict=False)\n",
    "linked_answers = entity_linker.link(artifacts[\"draft-answer-generation\"], return_dict=False)\n",
    "linked_entities, linked_answers"
   ]
  },
  {
   "cell_type": "markdown",
   "id": "cb56d7d7",
   "metadata": {},
   "source": [
    "### Triplet Retrieval\n",
    "The `AgenticRetriever` uses an LLM to:\n",
    "1. Navigate the graph starting from linked entities\n",
    "2. Select relevant relations based on the question\n",
    "3. Expand those relations and decide which relevant entities to explore next.\n",
    "4. It returns the relevant (head->relation->tail) based on the question.\n"
   ]
  },
  {
   "cell_type": "code",
   "execution_count": null,
   "id": "5438c866",
   "metadata": {},
   "outputs": [],
   "source": [
    "from graphrag_toolkit.byokg_rag.graph_retrievers import AgenticRetriever\n",
    "from graphrag_toolkit.byokg_rag.graph_retrievers import GTraversal, TripletGVerbalizer\n",
    "graph_traversal = GTraversal(graph_store)\n",
    "graph_verbalizer = TripletGVerbalizer()\n",
    "triplet_retriever = AgenticRetriever(\n",
    "    llm_generator=llm_generator, \n",
    "    graph_traversal=graph_traversal,\n",
    "    graph_verbalizer=graph_verbalizer)"
   ]
  },
  {
   "cell_type": "code",
   "execution_count": null,
   "id": "91c66868",
   "metadata": {},
   "outputs": [],
   "source": [
    "triplet_context = triplet_retriever.retrieve(query=question, source_nodes=linked_entities)\n",
    "triplet_context"
   ]
  },
  {
   "cell_type": "markdown",
   "id": "d5da3c24",
   "metadata": {},
   "source": [
    "### Path Retrieval\n",
    "The `PathRetriever` uses the identified metapaths and candidate answers to:\n",
    "1. Retrieve actual paths in the graph following the metapath\n",
    "2. Retrieve shortest paths connecting question entities and candidate answers (if any) \n",
    "3. Verbalize the paths for context"
   ]
  },
  {
   "cell_type": "code",
   "execution_count": null,
   "id": "7576abf8",
   "metadata": {},
   "outputs": [],
   "source": [
    "from graphrag_toolkit.byokg_rag.graph_retrievers import PathRetriever\n",
    "from graphrag_toolkit.byokg_rag.graph_retrievers import GTraversal, PathVerbalizer\n",
    "graph_traversal = GTraversal(graph_store)\n",
    "path_verbalizer = PathVerbalizer()\n",
    "path_retriever = PathRetriever(\n",
    "    graph_traversal=graph_traversal,\n",
    "    path_verbalizer=path_verbalizer)\n",
    "\n",
    "metapaths = [[component.strip() for component in path.split(\"->\")] for path in artifacts[\"path-extraction\"]]\n",
    "shortened_paths = []\n",
    "for path in metapaths:\n",
    "    if len(path) > 1:\n",
    "        shortened_paths.append(path[:1])\n",
    "for path in metapaths:\n",
    "    if len(path) > 2:\n",
    "        shortened_paths.append(path[:2])\n",
    "metapaths += shortened_paths\n",
    "path_context = path_retriever.retrieve(linked_entities, metapaths, linked_answers)\n",
    "path_context"
   ]
  },
  {
   "cell_type": "markdown",
   "id": "106a3a13",
   "metadata": {},
   "source": [
    "Let's try answering the question now with the retrieved context from various retrieval mechanisms.\n",
    "\n",
    "First we can create a `ByoKGQueryEngine` instance which can invoke an LLM and generate a response using the context we already retrieved from the graph"
   ]
  },
  {
   "cell_type": "code",
   "execution_count": null,
   "id": "a41d5e6c",
   "metadata": {},
   "outputs": [],
   "source": [
    "from graphrag_toolkit.byokg_rag.byokg_query_engine import ByoKGQueryEngine\n",
    "\n",
    "byokg_query_engine = ByoKGQueryEngine(\n",
    "    graph_store=graph_store,\n",
    "    kg_linker=kg_linker,\n",
    "    triplet_retriever=triplet_retriever,\n",
    "    path_retriever=path_retriever,\n",
    "    entity_linker=entity_linker\n",
    ")"
   ]
  },
  {
   "cell_type": "markdown",
   "id": "7e844e96",
   "metadata": {},
   "source": [
    "Generating a response using the triplet context from graph traversal"
   ]
  },
  {
   "cell_type": "code",
   "execution_count": null,
   "id": "914cc3c2",
   "metadata": {},
   "outputs": [],
   "source": [
    "answers, response = byokg_query_engine.generate_response(question, \"\\n\".join(triplet_context))\n",
    "\n",
    "print(\"Generated answers: \", answers)\n",
    "print(f\"Success! Ground-truth answer retrieved!\") if \"Yes\" in '\\n'.join(answers) else print(\"Failure..\")\n"
   ]
  },
  {
   "cell_type": "markdown",
   "id": "1a0764a8",
   "metadata": {},
   "source": [
    "Now generating a response using the path context from the path reteriever"
   ]
  },
  {
   "cell_type": "code",
   "execution_count": null,
   "id": "f2c88643",
   "metadata": {},
   "outputs": [],
   "source": [
    "answers, response = byokg_query_engine.generate_response(question, \"\\n\".join(path_context))\n",
    "\n",
    "print(\"Generated answers: \", answers)\n",
    "print(f\"Success! Ground-truth answer retrieved!\") if \"Yes\" in '\\n'.join(answers) else print(\"Failure..\")"
   ]
  },
  {
   "cell_type": "markdown",
   "id": "c6b5307b",
   "metadata": {},
   "source": [
    "### BYOKG RAG Pipeline\n",
    "\n",
    "We can also use the `ByoKGQueryEngine` to combine all into a single call to:\n",
    "1. Process natural language questions\n",
    "2. Retrieve relevant context from the graph\n",
    "3. Generate answers based on the retrieved information"
   ]
  },
  {
   "cell_type": "code",
   "execution_count": null,
   "id": "eac11cfe",
   "metadata": {
    "scrolled": true
   },
   "outputs": [],
   "source": [
    "from graphrag_toolkit.byokg_rag.byokg_query_engine import ByoKGQueryEngine\n",
    "\n",
    "byokg_query_engine = ByoKGQueryEngine(\n",
    "    graph_store=graph_store,\n",
    "    kg_linker=kg_linker,\n",
    "    triplet_retriever=triplet_retriever,\n",
    "    path_retriever=path_retriever,\n",
    "    entity_linker=entity_linker\n",
    ")\n",
    "\n",
    "retrieved_context = byokg_query_engine.query(question)\n",
    "answers, response = byokg_query_engine.generate_response(question, \"\\n\".join(retrieved_context))\n",
    "\n",
    "print(answers)\n",
    "print(response)"
   ]
  }
 ],
 "metadata": {
  "kernelspec": {
   "display_name": "Python 3 (ipykernel)",
   "language": "python",
   "name": "python3"
  },
  "language_info": {
   "codemirror_mode": {
    "name": "ipython",
    "version": 3
   },
   "file_extension": ".py",
   "mimetype": "text/x-python",
   "name": "python",
   "nbconvert_exporter": "python",
   "pygments_lexer": "ipython3",
   "version": "3.11.9"
  }
 },
 "nbformat": 4,
 "nbformat_minor": 5
}
