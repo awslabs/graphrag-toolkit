{
 "cells": [
  {
   "cell_type": "markdown",
   "id": "2ad881f1",
   "metadata": {},
   "source": [
    "# BYOKG RAG using Neptune Analytics with Cypher Queries\n",
    "This notebook demonstrates a RAG (Retrieval Augmented Generation) system built on top of a Knowledge Graph. In this example, we demonstrate how the BYOKG framework operates on a Neptune Analytics graph by generating executable cypher queries. The overall system allows querying a knowledge graph using natural language questions and retrieving relevant information to generate answers.\n",
    "\n",
    "1. **Graph Store**: Neptune Analytics endpoint for the graph structure and for storing embeddings based on the graph\n",
    "2. **Cypher Linker**: Links natural language questions via openCypher queries\n",
    "3. **Query Engine**: Orchestrates all components to answer questions"
   ]
  },
  {
   "cell_type": "markdown",
   "id": "1f71f996",
   "metadata": {},
   "source": [
    "#### Setup\n",
    "If you haven't already, install the toolkit and dependencies in [README.md](../../byokg-rag/README.md).\n",
    "Let's validate if the package is correctly installed."
   ]
  },
  {
   "cell_type": "code",
   "execution_count": null,
   "id": "fcbdac31-35e0-4cd3-9456-2d7ab58a172e",
   "metadata": {},
   "outputs": [],
   "source": [
    "# !pip install https://github.com/awslabs/graphrag-toolkit/archive/refs/tags/v3.8.1.zip#subdirectory=byokg-rag"
   ]
  },
  {
   "cell_type": "code",
   "execution_count": null,
   "id": "aceff478",
   "metadata": {},
   "outputs": [],
   "source": [
    "from graphrag_toolkit.byokg_rag.graphstore import NeptuneAnalyticsGraphStore"
   ]
  },
  {
   "cell_type": "markdown",
   "id": "e8d4754e",
   "metadata": {},
   "source": [
    "### Graph Store\n",
    "The `NeptuneAnalyticsGraphStore` class provides an interface to work with the Neptune Analytics graph.\n",
    "If you already have a NeptuneAnalyticsGraphEndpoint you want to use, simply change the cell below to assign `graph_identifier` to your NeptuneAnalytics graph id. \n",
    "\n",
    "If you don't already have a Neptune Graph then you can create one by running the command below from an environment that has the AWS CLI configured with appropriate permissions. Please refer to documentation for more details about [creating a graph](https://docs.aws.amazon.com/neptune-analytics/latest/userguide/create-graph-using-console.html) and [loading data into the graph](https://docs.aws.amazon.com/neptune-analytics/latest/userguide/batch-load.html).\n",
    "\n",
    "```\n",
    "aws neptune-graph create-graph --graph-name 'test-kg-with-embedding' --provisioned-memory 128 --public-connectivity --replica-count 0 --vector-search-configuration '{\"dimension\": 1024}'\n",
    "```\n",
    "\n",
    "After running the command you should receive a response that includes the graph id. Change the cell below to assign  `graph_identifier` to the id.\n",
    "\n",
    "To run the rest of the notebook, you'll need to ensure that the environment has the right IAM permissions to interact with your neptune analytics graph endpoint. Specifically you will need `neptune-graph:ReadDataViaQuery` and `neptune-graph:GetGraph`. You will also need s3 IAM read permissions so that `graphstore.read_from_csv` can access data from `s3://aws-neptune-customer-samples-*/*` and optionally, s3 IAM read and write permissions to your s3 bucket so that embeddings can be saved and loaded from your desired s3 location.\n",
    "\n",
    "In the rest of the notebook, we\n",
    "1. Initialize the BYOKG graph store to use a Neptune Analytics Graph\n",
    "2. Optionally, load an example data from a CSV file for a new graph and get basic statistics\n",
    "3. Demonstrate using `CypherKGLinker` how we can link and retrieve from the graph with openCypher queries\n",
    "4. Finally, combine all the steps using the NeptuneAnalyticsGraphStore and `CypherBYOKGQueryEngine` into a RAG pipeline and answer a sample question"
   ]
  },
  {
   "cell_type": "code",
   "execution_count": null,
   "id": "28739bdf",
   "metadata": {},
   "outputs": [],
   "source": [
    "region = \"us-west-2\" #replace with aws region\n",
    "graph_identifier = \"g-yrii2u1wf0\" # replace with graph id "
   ]
  },
  {
   "cell_type": "code",
   "execution_count": null,
   "id": "bfae6b0c",
   "metadata": {},
   "outputs": [],
   "source": [
    "graph_store = NeptuneAnalyticsGraphStore(graph_identifier=graph_identifier,\n",
    "                                         region=region)"
   ]
  },
  {
   "cell_type": "markdown",
   "id": "902a8cd7",
   "metadata": {},
   "source": [
    "#### Loading Data\n",
    "\n",
    "If you ran the command to create a new graph, then uncomment the code cell below to load the new graph with some data. The data we are loading is a KG with information about AWS blog posts on Neptune and Neptune Analytics."
   ]
  },
  {
   "cell_type": "code",
   "execution_count": null,
   "id": "adbc29f1",
   "metadata": {},
   "outputs": [],
   "source": [
    "#graph_store.read_from_csv(s3_path=f\"s3://aws-neptune-customer-samples-{region}/sample-datasets/gremlin/KG/\")"
   ]
  },
  {
   "cell_type": "code",
   "execution_count": null,
   "id": "0ee946d1",
   "metadata": {},
   "outputs": [],
   "source": [
    "# Print graph statistics\n",
    "number_of_nodes = len(graph_store.nodes())\n",
    "number_of_edges = len(graph_store.edges())\n",
    "print(f\"The graph has {number_of_nodes} nodes and {number_of_edges} edges.\")"
   ]
  },
  {
   "cell_type": "code",
   "execution_count": null,
   "id": "c3005cda",
   "metadata": {},
   "outputs": [],
   "source": [
    "# Print graph schema\n",
    "import json\n",
    "\n",
    "schema = graph_store.get_schema()\n",
    "print(json.dumps(schema, indent=4))"
   ]
  },
  {
   "cell_type": "markdown",
   "id": "ab2bc330",
   "metadata": {},
   "source": [
    "### Cypher KG Linker\n",
    "The `CypherKGLinker` uses an LLM (Claude 3.5 Sonnet) to:\n",
    "1. Generate opencypher queries for linking question entities to KG nodes\n",
    "2. Generate opencypher queries for retrieving KG answers\n",
    "3. Generate initial responses based on its knowledge"
   ]
  },
  {
   "cell_type": "code",
   "execution_count": null,
   "id": "ab17bb85",
   "metadata": {},
   "outputs": [],
   "source": [
    "from graphrag_toolkit.byokg_rag.graph_connectors import CypherKGLinker\n",
    "from graphrag_toolkit.byokg_rag.llm import BedrockGenerator\n",
    "\n",
    "# Initialize llm\n",
    "llm_generator = BedrockGenerator(\n",
    "                model_name='us.anthropic.claude-3-5-sonnet-20240620-v1:0',\n",
    "                region_name='us-west-2')\n",
    "\n",
    "cypher_linker = CypherKGLinker(graph_store=graph_store, llm_generator=llm_generator)\n"
   ]
  },
  {
   "cell_type": "code",
   "execution_count": null,
   "id": "b7ce9892",
   "metadata": {},
   "outputs": [],
   "source": [
    "question = \"What are some blogs authored by Dave Bechberger?\"\n",
    "response = cypher_linker.generate_response(\n",
    "                question=question,\n",
    "                schema=schema,\n",
    "                graph_context=\"Not provided. Use the above schema to understand the graph.\"\n",
    "            )\n",
    "response"
   ]
  },
  {
   "cell_type": "code",
   "execution_count": null,
   "id": "54533811",
   "metadata": {},
   "outputs": [],
   "source": [
    "artifacts = cypher_linker.parse_response(response)\n",
    "artifacts"
   ]
  },
  {
   "cell_type": "markdown",
   "id": "c6b5307b",
   "metadata": {},
   "source": [
    "### BYOKG RAG Pipeline for QA with Neptune Analytics and OpenCypher Execution\n",
    "\n",
    "Now let's use `ByoKGQueryEngine` to create generate opencypher queries and execute them over the graphstore to retrieve context. To get more details about the different graph retrievers in `ByoKGQueryEngine` base class, see the `byokg_rag_neptune_analytics_demo.ipynb` notebook"
   ]
  },
  {
   "cell_type": "code",
   "execution_count": null,
   "id": "30182a23",
   "metadata": {},
   "outputs": [],
   "source": [
    "# create query engine\n",
    "from graphrag_toolkit.byokg_rag.byokg_query_engine import ByoKGQueryEngine\n",
    "\n",
    "byokg_query_engine = ByoKGQueryEngine(\n",
    "    graph_store=graph_store,\n",
    "    cypher_kg_linker=cypher_linker,\n",
    "    kg_linker=None, # deactivate multi-strategy retrieval\n",
    ")"
   ]
  },
  {
   "cell_type": "code",
   "execution_count": null,
   "id": "eac11cfe",
   "metadata": {
    "scrolled": true
   },
   "outputs": [],
   "source": [
    "# set a question to test queries\n",
    "question = \"What are some blogs authored by Dave Bechberger?\"\n",
    "\n",
    "cypher_iterations = 3 # set 3 iterations for iterative improvements\n",
    "\n",
    "# We use `cypher_query` functionality to generate and exectute cypher queries\n",
    "retrieved_context = byokg_query_engine.query(question, cypher_iterations=cypher_iterations)\n",
    "answers, response = byokg_query_engine.generate_response(question, \"\\n\".join(retrieved_context))\n",
    "\n",
    "print(retrieved_context)\n",
    "print(answers)\n",
    "print(response)"
   ]
  },
  {
   "cell_type": "markdown",
   "id": "7f3430fa",
   "metadata": {},
   "source": [
    "### Full BYOKG RAG Pipeline for QA with Neptune Analytics \n"
   ]
  },
  {
   "cell_type": "code",
   "execution_count": null,
   "id": "67cc0f85",
   "metadata": {},
   "outputs": [],
   "source": [
    "# create query engine\n",
    "from graphrag_toolkit.byokg_rag.byokg_query_engine import ByoKGQueryEngine\n",
    "# add KGLinker to the pipeline with CypherKGLinker\n",
    "from graphrag_toolkit.byokg_rag.graph_connectors import KGLinker\n",
    "kg_linker = KGLinker(graph_store=graph_store, llm_generator=llm_generator)\n",
    "\n",
    "byokg_query_engine = ByoKGQueryEngine(\n",
    "    graph_store=graph_store,\n",
    "    cypher_kg_linker=cypher_linker,\n",
    "    kg_linker=kg_linker, # activate multi-strategy retrieval\n",
    ")"
   ]
  },
  {
   "cell_type": "code",
   "execution_count": null,
   "id": "653968e7",
   "metadata": {},
   "outputs": [],
   "source": [
    "# set a question to test queries\n",
    "question = \"What are some blogs authored by Dave Bechberger?\"\n",
    "\n",
    "iterations = 2\n",
    "cypher_iterations = 2 \n",
    "\n",
    "# We use `cypher_query` functionality to generate and exectute cypher queries\n",
    "retrieved_context = byokg_query_engine.query(question, iterations=iterations, cypher_iterations=cypher_iterations)\n",
    "answers, response = byokg_query_engine.generate_response(question, \"\\n\".join(retrieved_context))\n",
    "\n",
    "print(retrieved_context)\n",
    "print(answers)\n",
    "print(response)"
   ]
  }
 ],
 "metadata": {
  "kernelspec": {
   "display_name": "gtool",
   "language": "python",
   "name": "python3"
  },
  "language_info": {
   "codemirror_mode": {
    "name": "ipython",
    "version": 3
   },
   "file_extension": ".py",
   "mimetype": "text/x-python",
   "name": "python",
   "nbconvert_exporter": "python",
   "pygments_lexer": "ipython3",
   "version": "3.12.0"
  }
 },
 "nbformat": 4,
 "nbformat_minor": 5
}
