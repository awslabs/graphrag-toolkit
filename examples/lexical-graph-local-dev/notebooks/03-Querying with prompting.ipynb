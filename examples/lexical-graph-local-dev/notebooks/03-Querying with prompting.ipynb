{
 "cells": [
  {
   "cell_type": "markdown",
   "id": "3bfeb79c9431a3c6",
   "metadata": {},
   "source": "# 03 - Querying with prompting"
  },
  {
   "cell_type": "code",
   "execution_count": null,
   "id": "6edfdf2594abab7c",
   "metadata": {},
   "outputs": [],
   "source": [
    "%reload_ext dotenv\n",
    "%dotenv\n",
    "\n",
    "import os\n",
    "\n",
    "from graphrag_toolkit.lexical_graph.storage.graph.neo4j_graph_store_factory import Neo4jGraphStoreFactory\n",
    "from graphrag_toolkit.lexical_graph.storage import GraphStoreFactory\n",
    "from graphrag_toolkit.lexical_graph.storage import VectorStoreFactory\n",
    "from graphrag_toolkit.lexical_graph import set_logging_config\n",
    "\n",
    "set_logging_config('INFO')\n",
    "\n",
    "# Register the Neo4j backend with the factory\n",
    "GraphStoreFactory.register(Neo4jGraphStoreFactory)\n",
    "\n",
    "# Create graph and vector stores\n",
    "graph_store = GraphStoreFactory.for_graph_store(os.environ['GRAPH_STORE'])\n",
    "vector_store = VectorStoreFactory.for_vector_store(os.environ['VECTOR_STORE'])"
   ]
  },
  {
   "cell_type": "markdown",
   "id": "310c60207b80a332",
   "metadata": {},
   "source": [
    "### TraversalBasedRetriever\n",
    "\n",
    "See [TraversalBasedRetriever](https://github.com/awslabs/graphrag-toolkit/blob/main/docs/lexical-graph/querying.md#traversalbasedretriever)."
   ]
  },
  {
   "cell_type": "code",
   "execution_count": null,
   "id": "initial_id",
   "metadata": {},
   "outputs": [],
   "source": [
    "from graphrag_toolkit.lexical_graph import LexicalGraphQueryEngine\n",
    "\n",
    "query_engine = LexicalGraphQueryEngine.for_traversal_based_search(\n",
    "    graph_store, \n",
    "    vector_store,\n",
    "    streaming=True\n",
    ")\n",
    "\n",
    "response = query_engine.query(\"What are the similarities and differences between Neptune Database and Neptune Analytics?\")\n",
    "\n",
    "print(response.print_response_stream())"
   ]
  },
  {
   "cell_type": "markdown",
   "id": "8c9a1e5f27a4df28",
   "metadata": {},
   "source": [
    "## Set prompt from disk"
   ]
  },
  {
   "cell_type": "code",
   "execution_count": null,
   "id": "d74997bf365edc3a",
   "metadata": {},
   "outputs": [],
   "source": [
    "from graphrag_toolkit.lexical_graph import LexicalGraphQueryEngine\n",
    "from graphrag_toolkit.lexical_graph.prompts.file_prompt_provider import FilePromptProvider\n",
    "from graphrag_toolkit.lexical_graph.prompts.prompt_provider_config import FilePromptProviderConfig\n",
    "\n",
    "# Setup prompt provider\n",
    "prompt_provider = FilePromptProvider(\n",
    "    FilePromptProviderConfig(\n",
    "        system_prompt_file=\"prompts/system_prompt.txt\",\n",
    "        user_prompt_file=\"prompts/user_prompt.txt\"\n",
    "    )\n",
    ")\n",
    "\n",
    "# Create query engine with prompt provider\n",
    "query_engine = LexicalGraphQueryEngine.for_traversal_based_search(\n",
    "    graph_store, \n",
    "    vector_store,\n",
    "    streaming=True,\n",
    "    prompt_provider=prompt_provider\n",
    ")\n",
    "\n",
    "response = query_engine.query(\"What are the similarities and differences between Neptune Database and Neptune Analytics?\")\n",
    "\n",
    "print(response.print_response_stream())\n"
   ]
  },
  {
   "cell_type": "markdown",
   "id": "fbea109ac64c970a",
   "metadata": {},
   "source": [
    "## Set prompt from S3"
   ]
  },
  {
   "cell_type": "code",
   "execution_count": null,
   "id": "33b70a11bca9580d",
   "metadata": {},
   "outputs": [],
   "source": [
    "from graphrag_toolkit.lexical_graph import LexicalGraphQueryEngine\n",
    "from graphrag_toolkit.lexical_graph.prompts.s3_prompt_provider import S3PromptProvider\n",
    "from graphrag_toolkit.lexical_graph.prompts.prompt_provider_config import S3PromptProviderConfig\n",
    "\n",
    "# Setup S3 prompt provider\n",
    "prompt_provider = S3PromptProvider(\n",
    "    S3PromptProviderConfig(\n",
    "        bucket=\"ccms-prompts\",\n",
    "        prefix=\"prompts\",\n",
    "        aws_region=\"ap-south-1\",\n",
    "        aws_profile=\"padmin\",\n",
    "        system_prompt_file=\"system_prompt.txt\",\n",
    "        user_prompt_file=\"user_prompt.txt\"\n",
    "    )\n",
    ")\n",
    "\n",
    "# Create query engine with S3 prompts\n",
    "query_engine = LexicalGraphQueryEngine.for_traversal_based_search(\n",
    "    graph_store, \n",
    "    vector_store,\n",
    "    streaming=True,\n",
    "    prompt_provider=prompt_provider\n",
    ")\n",
    "\n",
    "response = query_engine.query(\"What are the similarities and differences between Neptune Database and Neptune Analytics?\")\n",
    "\n",
    "print(response.print_response_stream())\n"
   ]
  },
  {
   "cell_type": "markdown",
   "id": "389cc603c4056841",
   "metadata": {},
   "source": [
    "## Bedrock Manage Prompt"
   ]
  },
  {
   "cell_type": "code",
   "execution_count": null,
   "id": "845b89c30a9a71b1",
   "metadata": {},
   "outputs": [],
   "source": [
    "from graphrag_toolkit.lexical_graph import LexicalGraphQueryEngine\n",
    "from graphrag_toolkit.lexical_graph.prompts.prompt_provider_config import BedrockPromptProviderConfig\n",
    "\n",
    "# Setup Bedrock prompt provider\n",
    "prompt_provider = BedrockPromptProviderConfig(\n",
    "    aws_region=\"us-east-1\",\n",
    "    aws_profile=\"padmin\",\n",
    "    system_prompt_arn=\"KEOXPXUM00\",\n",
    "    user_prompt_arn=\"TSF4PI4A6C\",\n",
    "    system_prompt_version=\"1\",\n",
    "    user_prompt_version=\"1\"\n",
    ").build()\n",
    "\n",
    "# Create query engine with Bedrock prompts\n",
    "query_engine = LexicalGraphQueryEngine.for_traversal_based_search(\n",
    "    graph_store, \n",
    "    vector_store,\n",
    "    streaming=True,\n",
    "    prompt_provider=prompt_provider\n",
    ")\n",
    "\n",
    "response = query_engine.query(\"What are the similarities and differences between Neptune Database and Neptune Analytics?\")\n",
    "\n",
    "print(response.print_response_stream())\n"
   ]
  }
 ],
 "metadata": {
  "kernelspec": {
   "display_name": "Python 3 (ipykernel)",
   "language": "python",
   "name": "python3"
  },
  "language_info": {
   "codemirror_mode": {
    "name": "ipython",
    "version": 3
   },
   "file_extension": ".py",
   "mimetype": "text/x-python",
   "name": "python",
   "nbconvert_exporter": "python",
   "pygments_lexer": "ipython3",
   "version": "3.11.6"
  }
 },
 "nbformat": 4,
 "nbformat_minor": 5
}
