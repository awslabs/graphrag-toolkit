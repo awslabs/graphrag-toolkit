{
 "cells": [
  {
   "cell_type": "markdown",
   "id": "d40dfbd7",
   "metadata": {},
   "source": [
    "# Traversal-Based Querying"
   ]
  },
  {
   "cell_type": "markdown",
   "id": "08d9b60c",
   "metadata": {},
   "source": [
    "## Setup\n",
    "\n",
    "If you haven't already, install the toolkit and dependencies using the [Setup](./00-Setup.ipynb) notebook."
   ]
  },
  {
   "cell_type": "markdown",
   "id": "04d08c74",
   "metadata": {},
   "source": [
    "### TraversalBasedRetriever\n",
    "\n",
    "See [TraversalBasedRetriever](https://github.com/awslabs/graphrag-toolkit/blob/main/docs/lexical-graph/querying.md#traversalbasedretriever)."
   ]
  },
  {
   "cell_type": "code",
   "execution_count": null,
   "id": "2ec2a722",
   "metadata": {},
   "outputs": [],
   "source": [
    "%reload_ext dotenv\n",
    "%dotenv\n",
    "\n",
    "import os\n",
    "\n",
    "from graphrag_toolkit.lexical_graph import set_logging_config\n",
    "from graphrag_toolkit.lexical_graph import LexicalGraphQueryEngine\n",
    "from graphrag_toolkit.lexical_graph.storage import GraphStoreFactory\n",
    "from graphrag_toolkit.lexical_graph.storage import VectorStoreFactory\n",
    "\n",
    "set_logging_config('INFO')\n",
    "\n",
    "with (\n",
    "    GraphStoreFactory.for_graph_store(os.environ['GRAPH_STORE']) as graph_store,\n",
    "    VectorStoreFactory.for_vector_store(os.environ['VECTOR_STORE']) as vector_store\n",
    "):\n",
    "\n",
    "    query_engine = LexicalGraphQueryEngine.for_traversal_based_search(\n",
    "        graph_store, \n",
    "        vector_store,\n",
    "        streaming=True\n",
    "    )\n",
    "\n",
    "    response = query_engine.query(\"What are the differences between Neptune Database and Neptune Analytics?\")\n",
    "\n",
    "print(f\"\"\"{response.print_response_stream()}\n",
    "\n",
    "retrieve_ms: {int(response.metadata['retrieve_ms'])}\n",
    "answer_ms  : {int(response.metadata['answer_ms'])}\n",
    "total_ms   : {int(response.metadata['total_ms'])}\n",
    "\"\"\")"
   ]
  },
  {
   "cell_type": "markdown",
   "id": "9bf7ef25",
   "metadata": {},
   "source": [
    "#### Show the context passed to the LLM:"
   ]
  },
  {
   "cell_type": "code",
   "execution_count": null,
   "id": "3b5a947e",
   "metadata": {},
   "outputs": [],
   "source": [
    "for n in response.source_nodes:\n",
    "    print(n.text)"
   ]
  },
  {
   "cell_type": "markdown",
   "id": "62799e5b",
   "metadata": {},
   "source": [
    "#### Show the underlying results:"
   ]
  },
  {
   "cell_type": "code",
   "execution_count": null,
   "id": "bb78418c",
   "metadata": {},
   "outputs": [],
   "source": [
    "import json\n",
    "for n in response.source_nodes:\n",
    "    print(json.dumps(n.metadata, indent=2))"
   ]
  },
  {
   "cell_type": "markdown",
   "id": "e5211757",
   "metadata": {},
   "source": [
    "#### Visualisation:"
   ]
  },
  {
   "cell_type": "code",
   "execution_count": null,
   "id": "389e629d",
   "metadata": {},
   "outputs": [],
   "source": [
    "from graphrag_toolkit.lexical_graph.visualisation import GraphNotebookVisualisation\n",
    "\n",
    "v = GraphNotebookVisualisation(nb_classic=True)"
   ]
  },
  {
   "cell_type": "markdown",
   "id": "946734e6",
   "metadata": {},
   "source": [
    "`display_results()` shows the topics, statements, facts and entities used when generating the response. If `include_sources=True`, the visualisation will also show the sources and chunks. Note that this is not a visualisation of any of the queries used by the retrievers; rather, it is a visualisation of the _results_ produced by the retrievers."
   ]
  },
  {
   "cell_type": "code",
   "execution_count": null,
   "id": "c89283e4",
   "metadata": {},
   "outputs": [],
   "source": [
    "v.display_results(response, include_sources=True)"
   ]
  },
  {
   "cell_type": "markdown",
   "id": "e5991905",
   "metadata": {},
   "source": [
    "`display_entity_contexts()` shows the network of entities used to generate starting points for retrievals and aid reranking of results."
   ]
  },
  {
   "cell_type": "code",
   "execution_count": null,
   "id": "41bff6c9",
   "metadata": {},
   "outputs": [],
   "source": [
    "v.display_entity_contexts(response)"
   ]
  },
  {
   "cell_type": "markdown",
   "id": "7115e1b7",
   "metadata": {},
   "source": [
    "`display_schema()` shows the underlying inferred schema for the entity relations in the lexical graph. By default, `display_schema()` shows the schema for the default tenant; you can show the schema for a different tenant by supplying a `tenant_id` string parameter."
   ]
  },
  {
   "cell_type": "code",
   "execution_count": null,
   "id": "2ad2c231",
   "metadata": {},
   "outputs": [],
   "source": [
    "v.display_schema()"
   ]
  },
  {
   "cell_type": "markdown",
   "id": "9378f518",
   "metadata": {},
   "source": [
    "#### Metadata filtering"
   ]
  },
  {
   "cell_type": "code",
   "execution_count": null,
   "id": "af65f1a2",
   "metadata": {},
   "outputs": [],
   "source": [
    "%reload_ext dotenv\n",
    "%dotenv\n",
    "\n",
    "import os\n",
    "\n",
    "from graphrag_toolkit.lexical_graph import set_logging_config\n",
    "from graphrag_toolkit.lexical_graph import LexicalGraphQueryEngine\n",
    "from graphrag_toolkit.lexical_graph.storage import GraphStoreFactory\n",
    "from graphrag_toolkit.lexical_graph.storage import VectorStoreFactory\n",
    "from graphrag_toolkit.lexical_graph.metadata import FilterConfig\n",
    "\n",
    "from llama_index.core.vector_stores.types import FilterOperator, MetadataFilter\n",
    "\n",
    "set_logging_config('INFO')\n",
    "\n",
    "with (\n",
    "    GraphStoreFactory.for_graph_store(os.environ['GRAPH_STORE']) as graph_store,\n",
    "    VectorStoreFactory.for_vector_store(os.environ['VECTOR_STORE']) as vector_store\n",
    "):\n",
    "\n",
    "    query_engine = LexicalGraphQueryEngine.for_traversal_based_search(\n",
    "        graph_store, \n",
    "        vector_store,\n",
    "        filter_config = FilterConfig(\n",
    "            MetadataFilter(\n",
    "                key='url',\n",
    "                value='https://docs.aws.amazon.com/neptune/latest/userguide/intro.html',\n",
    "                operator=FilterOperator.EQ\n",
    "            )\n",
    "        )\n",
    "    )\n",
    "\n",
    "    response = query_engine.query(\"What are the differences between Neptune Database and Neptune Analytics?\")\n",
    "\n",
    "print(f\"\"\"{response.response}\n",
    "\n",
    "retrieve_ms: {int(response.metadata['retrieve_ms'])}\n",
    "answer_ms  : {int(response.metadata['answer_ms'])}\n",
    "total_ms   : {int(response.metadata['total_ms'])}\n",
    "\"\"\")"
   ]
  },
  {
   "cell_type": "code",
   "execution_count": null,
   "id": "e8e5844b",
   "metadata": {},
   "outputs": [],
   "source": [
    "for n in response.source_nodes:\n",
    "    print(n.text)"
   ]
  },
  {
   "cell_type": "markdown",
   "id": "41035822",
   "metadata": {},
   "source": [
    "#### Set subretriever\n",
    "\n",
    "In the example below, the `TraversalBasedRetriever` is configured with a `ChunkBasedSearch` subretriever. (You can also try with `EntityBasedSearch` and `EntityContextSearch`)."
   ]
  },
  {
   "cell_type": "code",
   "execution_count": null,
   "id": "90d04b97",
   "metadata": {},
   "outputs": [],
   "source": [
    "%reload_ext dotenv\n",
    "%dotenv\n",
    "\n",
    "import os\n",
    "\n",
    "from graphrag_toolkit.lexical_graph import LexicalGraphQueryEngine\n",
    "from graphrag_toolkit.lexical_graph.storage import GraphStoreFactory\n",
    "from graphrag_toolkit.lexical_graph.storage import VectorStoreFactory\n",
    "from graphrag_toolkit.lexical_graph.retrieval.retrievers import ChunkBasedSearch\n",
    "from graphrag_toolkit.lexical_graph.retrieval.retrievers import EntityBasedSearch\n",
    "from graphrag_toolkit.lexical_graph.retrieval.retrievers import EntityContextSearch\n",
    "\n",
    "with (\n",
    "    GraphStoreFactory.for_graph_store(os.environ['GRAPH_STORE']) as graph_store,\n",
    "    VectorStoreFactory.for_vector_store(os.environ['VECTOR_STORE']) as vector_store\n",
    "):\n",
    "\n",
    "    query_engine = LexicalGraphQueryEngine.for_traversal_based_search(\n",
    "        graph_store, \n",
    "        vector_store,\n",
    "        retrievers=[ChunkBasedSearch]\n",
    "    )\n",
    "\n",
    "    response = query_engine.query(\"What are the differences between Neptune Database and Neptune Analytics?\")\n",
    "\n",
    "print(f\"\"\"{response.response}\n",
    "\n",
    "retrieve_ms: {int(response.metadata['retrieve_ms'])}\n",
    "answer_ms  : {int(response.metadata['answer_ms'])}\n",
    "total_ms   : {int(response.metadata['total_ms'])}\n",
    "\"\"\")"
   ]
  }
 ],
 "metadata": {
  "kernelspec": {
   "display_name": "Python 3",
   "language": "python",
   "name": "python3"
  },
  "language_info": {
   "codemirror_mode": {
    "name": "ipython",
    "version": 3
   },
   "file_extension": ".py",
   "mimetype": "text/x-python",
   "name": "python",
   "nbconvert_exporter": "python",
   "pygments_lexer": "ipython3",
   "version": "3.10.8"
  }
 },
 "nbformat": 4,
 "nbformat_minor": 5
}
